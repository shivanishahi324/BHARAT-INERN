{
  "nbformat": 4,
  "nbformat_minor": 0,
  "metadata": {
    "colab": {
      "provenance": [],
      "gpuType": "T4"
    },
    "kernelspec": {
      "name": "python3",
      "display_name": "Python 3"
    },
    "language_info": {
      "name": "python"
    },
    "accelerator": "GPU"
  },
  "cells": [
    {
      "cell_type": "code",
      "execution_count": 66,
      "metadata": {
        "id": "PSsBpSsu34y_"
      },
      "outputs": [],
      "source": [
        "import pandas as pd\n",
        "import numpy as np\n",
        "from sklearn.preprocessing import LabelEncoder, MinMaxScaler\n",
        "from sklearn.model_selection import train_test_split\n",
        "import tensorflow.keras as keras\n",
        "from tensorflow.keras.models import Sequential\n",
        "from tensorflow.keras.layers import Dense, Dropout"
      ]
    },
    {
      "cell_type": "code",
      "source": [
        "#Read the dataset file\n",
        "data = pd.read_csv('/content/Iris.csv', index_col = 0)"
      ],
      "metadata": {
        "id": "REAQPIdJ5dg5"
      },
      "execution_count": 67,
      "outputs": []
    },
    {
      "cell_type": "code",
      "source": [
        "#Display the first five rows of the dataframe\n",
        "print(data.head())"
      ],
      "metadata": {
        "id": "eDOUDAwB6Mg3",
        "colab": {
          "base_uri": "https://localhost:8080/"
        },
        "outputId": "acaa8f71-8a12-4ee1-b141-31d30bb364fc"
      },
      "execution_count": 68,
      "outputs": [
        {
          "output_type": "stream",
          "name": "stdout",
          "text": [
            "    SepalLengthCm  SepalWidthCm  PetalLengthCm  PetalWidthCm      Species\n",
            "Id                                                                       \n",
            "1             5.1           3.5            1.4           0.2  Iris-setosa\n",
            "2             4.9           3.0            1.4           0.2  Iris-setosa\n",
            "3             4.7           3.2            1.3           0.2  Iris-setosa\n",
            "4             4.6           3.1            1.5           0.2  Iris-setosa\n",
            "5             5.0           3.6            1.4           0.2  Iris-setosa\n"
          ]
        }
      ]
    },
    {
      "cell_type": "code",
      "source": [
        "#Displaying the information of the dataframe\n",
        "print(data.info())"
      ],
      "metadata": {
        "id": "Cog9EzfB6WpS",
        "colab": {
          "base_uri": "https://localhost:8080/"
        },
        "outputId": "0864535f-efa2-4df5-9051-a644d31e8df2"
      },
      "execution_count": 69,
      "outputs": [
        {
          "output_type": "stream",
          "name": "stdout",
          "text": [
            "<class 'pandas.core.frame.DataFrame'>\n",
            "Int64Index: 150 entries, 1 to 150\n",
            "Data columns (total 5 columns):\n",
            " #   Column         Non-Null Count  Dtype  \n",
            "---  ------         --------------  -----  \n",
            " 0   SepalLengthCm  150 non-null    float64\n",
            " 1   SepalWidthCm   150 non-null    float64\n",
            " 2   PetalLengthCm  150 non-null    float64\n",
            " 3   PetalWidthCm   150 non-null    float64\n",
            " 4   Species        150 non-null    object \n",
            "dtypes: float64(4), object(1)\n",
            "memory usage: 7.0+ KB\n",
            "None\n"
          ]
        }
      ]
    },
    {
      "cell_type": "code",
      "source": [
        "print(data.shape)"
      ],
      "metadata": {
        "id": "t800Cbjb6ah1",
        "colab": {
          "base_uri": "https://localhost:8080/"
        },
        "outputId": "07062700-cf56-4659-e3d1-093bda8783c0"
      },
      "execution_count": 70,
      "outputs": [
        {
          "output_type": "stream",
          "name": "stdout",
          "text": [
            "(150, 5)\n"
          ]
        }
      ]
    },
    {
      "cell_type": "code",
      "source": [
        "print(data.isna().sum())"
      ],
      "metadata": {
        "id": "HD8lY7GB63P9",
        "colab": {
          "base_uri": "https://localhost:8080/"
        },
        "outputId": "cdfa3e7c-c206-4fb1-a902-44892c926c29"
      },
      "execution_count": 71,
      "outputs": [
        {
          "output_type": "stream",
          "name": "stdout",
          "text": [
            "SepalLengthCm    0\n",
            "SepalWidthCm     0\n",
            "PetalLengthCm    0\n",
            "PetalWidthCm     0\n",
            "Species          0\n",
            "dtype: int64\n"
          ]
        }
      ]
    },
    {
      "cell_type": "code",
      "source": [
        "print(data.duplicated(keep = False).value_counts())\n",
        "print(data[data.duplicated(keep = False)])"
      ],
      "metadata": {
        "id": "jTTRHE7r7pZX",
        "colab": {
          "base_uri": "https://localhost:8080/"
        },
        "outputId": "c5bc605c-b352-4567-87dc-c3a6cdbe7f29"
      },
      "execution_count": 72,
      "outputs": [
        {
          "output_type": "stream",
          "name": "stdout",
          "text": [
            "False    145\n",
            "True       5\n",
            "dtype: int64\n",
            "     SepalLengthCm  SepalWidthCm  PetalLengthCm  PetalWidthCm         Species\n",
            "Id                                                                           \n",
            "10             4.9           3.1            1.5           0.1     Iris-setosa\n",
            "35             4.9           3.1            1.5           0.1     Iris-setosa\n",
            "38             4.9           3.1            1.5           0.1     Iris-setosa\n",
            "102            5.8           2.7            5.1           1.9  Iris-virginica\n",
            "143            5.8           2.7            5.1           1.9  Iris-virginica\n"
          ]
        }
      ]
    },
    {
      "cell_type": "code",
      "source": [
        "data = data.drop_duplicates(keep = 'first').copy()\n",
        "print(data.shape)"
      ],
      "metadata": {
        "id": "gJpiZ5yh74Gd",
        "colab": {
          "base_uri": "https://localhost:8080/"
        },
        "outputId": "9bb5ccfc-0203-47b8-8f1b-345b012c92d9"
      },
      "execution_count": 73,
      "outputs": [
        {
          "output_type": "stream",
          "name": "stdout",
          "text": [
            "(147, 5)\n"
          ]
        }
      ]
    },
    {
      "cell_type": "code",
      "source": [
        "data = data.reset_index(drop = True)"
      ],
      "metadata": {
        "id": "fihUWI9k78MK"
      },
      "execution_count": 74,
      "outputs": []
    },
    {
      "cell_type": "code",
      "source": [
        "X = data.iloc[:, 0:4].values\n",
        "y = data['Species'].values"
      ],
      "metadata": {
        "id": "SW0pxbBz8ZdP"
      },
      "execution_count": 75,
      "outputs": []
    },
    {
      "cell_type": "code",
      "source": [
        "print(X.shape)\n",
        "print(y.shape)"
      ],
      "metadata": {
        "id": "KiFKANRi8gge",
        "colab": {
          "base_uri": "https://localhost:8080/"
        },
        "outputId": "620b88a9-acd3-445f-e025-993885aeb8b1"
      },
      "execution_count": 76,
      "outputs": [
        {
          "output_type": "stream",
          "name": "stdout",
          "text": [
            "(147, 4)\n",
            "(147,)\n"
          ]
        }
      ]
    },
    {
      "cell_type": "code",
      "source": [
        "scaler = MinMaxScaler()\n",
        "scaler.fit(X)\n",
        "X_scaled = scaler.fit_transform(X)"
      ],
      "metadata": {
        "id": "NpAX0Lnk9PK5"
      },
      "execution_count": 77,
      "outputs": []
    },
    {
      "cell_type": "code",
      "source": [
        "encoder = LabelEncoder()\n",
        "y_encoded = encoder.fit_transform(y)"
      ],
      "metadata": {
        "id": "ha3m61CM9oNd"
      },
      "execution_count": 78,
      "outputs": []
    },
    {
      "cell_type": "code",
      "source": [
        "num_categories = 3\n",
        "y_onehot = keras.utils.to_categorical(y_encoded, num_categories)"
      ],
      "metadata": {
        "id": "FP3tKagy-FZX"
      },
      "execution_count": 79,
      "outputs": []
    },
    {
      "cell_type": "code",
      "source": [
        "#convert X_scaled and y_onehot into train and valid data\n",
        "\n",
        "X_train, X_valid, y_train, y_valid = train_test_split(X_scaled, y_onehot,\n",
        "                                                     test_size = 0.2,\n",
        "                                                     random_state = 42)"
      ],
      "metadata": {
        "id": "vfgq4wJzhV2r"
      },
      "execution_count": 80,
      "outputs": []
    },
    {
      "cell_type": "code",
      "source": [
        "#Define a model\n",
        "\n",
        "model = Sequential()\n",
        "model.add(Dense(units = 512, activation = 'relu', input_shape = (4,)))\n",
        "model.add(Dense(units = 512, activation = 'relu'))\n",
        "model.add(Dense(units = 512, activation = 'relu'))\n",
        "model.add(Dropout(0.2))\n",
        "model.add(Dense(units = num_categories, activation = 'softmax'))"
      ],
      "metadata": {
        "id": "uFPiVdO6fD0t"
      },
      "execution_count": 81,
      "outputs": []
    },
    {
      "cell_type": "code",
      "source": [
        "model.summary()"
      ],
      "metadata": {
        "id": "OFIUzAxHfJAk",
        "colab": {
          "base_uri": "https://localhost:8080/"
        },
        "outputId": "fda1c960-2853-4da9-f537-4a34885785e5"
      },
      "execution_count": 82,
      "outputs": [
        {
          "output_type": "stream",
          "name": "stdout",
          "text": [
            "Model: \"sequential_3\"\n",
            "_________________________________________________________________\n",
            " Layer (type)                Output Shape              Param #   \n",
            "=================================================================\n",
            " dense_12 (Dense)            (None, 512)               2560      \n",
            "                                                                 \n",
            " dense_13 (Dense)            (None, 512)               262656    \n",
            "                                                                 \n",
            " dense_14 (Dense)            (None, 512)               262656    \n",
            "                                                                 \n",
            " dropout_3 (Dropout)         (None, 512)               0         \n",
            "                                                                 \n",
            " dense_15 (Dense)            (None, 3)                 1539      \n",
            "                                                                 \n",
            "=================================================================\n",
            "Total params: 529411 (2.02 MB)\n",
            "Trainable params: 529411 (2.02 MB)\n",
            "Non-trainable params: 0 (0.00 Byte)\n",
            "_________________________________________________________________\n"
          ]
        }
      ]
    },
    {
      "cell_type": "code",
      "source": [
        "#Compiling the model\n",
        "\n",
        "model.compile(loss = 'categorical_crossentropy', metrics = ['accuracy'])"
      ],
      "metadata": {
        "id": "2PIQ_FbLfTbp"
      },
      "execution_count": 83,
      "outputs": []
    },
    {
      "cell_type": "code",
      "source": [
        "history=model.fit(X_train, y_train,\n",
        "          epochs = 100,\n",
        "          verbose = 1,\n",
        "          validation_data = (X_valid, y_valid))"
      ],
      "metadata": {
        "id": "Aby5KZNWhidf",
        "colab": {
          "base_uri": "https://localhost:8080/"
        },
        "outputId": "1aab57f9-2fca-49ad-bbb2-6c4c3752ce29"
      },
      "execution_count": null,
      "outputs": [
        {
          "output_type": "stream",
          "name": "stdout",
          "text": [
            "Epoch 1/100\n",
            "4/4 [==============================] - 2s 97ms/step - loss: 0.9764 - accuracy: 0.5470 - val_loss: 0.8096 - val_accuracy: 0.6667\n",
            "Epoch 2/100\n",
            "4/4 [==============================] - 0s 23ms/step - loss: 0.6755 - accuracy: 0.6581 - val_loss: 0.5307 - val_accuracy: 0.7333\n",
            "Epoch 3/100\n",
            "4/4 [==============================] - 0s 23ms/step - loss: 0.5321 - accuracy: 0.7009 - val_loss: 0.4528 - val_accuracy: 0.8000\n",
            "Epoch 4/100\n",
            "4/4 [==============================] - 0s 22ms/step - loss: 0.4825 - accuracy: 0.7607 - val_loss: 0.5121 - val_accuracy: 0.6667\n",
            "Epoch 5/100\n",
            "4/4 [==============================] - 0s 23ms/step - loss: 0.4690 - accuracy: 0.7778 - val_loss: 0.3815 - val_accuracy: 0.8667\n",
            "Epoch 6/100\n",
            "4/4 [==============================] - 0s 22ms/step - loss: 0.3934 - accuracy: 0.8205 - val_loss: 0.3518 - val_accuracy: 0.9000\n",
            "Epoch 7/100\n",
            "4/4 [==============================] - 0s 24ms/step - loss: 0.3933 - accuracy: 0.7436 - val_loss: 0.3534 - val_accuracy: 0.8667\n",
            "Epoch 8/100\n",
            "4/4 [==============================] - 0s 16ms/step - loss: 0.3101 - accuracy: 0.9060 - val_loss: 0.3095 - val_accuracy: 0.8667\n",
            "Epoch 9/100\n",
            "4/4 [==============================] - 0s 21ms/step - loss: 0.3298 - accuracy: 0.8205 - val_loss: 0.5230 - val_accuracy: 0.7000\n",
            "Epoch 10/100\n",
            "4/4 [==============================] - 0s 23ms/step - loss: 0.3801 - accuracy: 0.8376 - val_loss: 0.2764 - val_accuracy: 0.9000\n",
            "Epoch 11/100\n",
            "4/4 [==============================] - 0s 24ms/step - loss: 0.2284 - accuracy: 0.9487 - val_loss: 0.3282 - val_accuracy: 0.8667\n",
            "Epoch 12/100\n",
            "4/4 [==============================] - 0s 17ms/step - loss: 0.4264 - accuracy: 0.7436 - val_loss: 0.4001 - val_accuracy: 0.7333\n",
            "Epoch 13/100\n",
            "4/4 [==============================] - 0s 20ms/step - loss: 0.2315 - accuracy: 0.8889 - val_loss: 0.2770 - val_accuracy: 0.9000\n",
            "Epoch 14/100\n",
            "4/4 [==============================] - 0s 19ms/step - loss: 0.1837 - accuracy: 0.9573 - val_loss: 0.2625 - val_accuracy: 0.9000\n",
            "Epoch 15/100\n",
            "4/4 [==============================] - 0s 18ms/step - loss: 0.1861 - accuracy: 0.9402 - val_loss: 0.4198 - val_accuracy: 0.8000\n",
            "Epoch 16/100\n",
            "4/4 [==============================] - 0s 16ms/step - loss: 0.4583 - accuracy: 0.7778 - val_loss: 0.2140 - val_accuracy: 0.9333\n",
            "Epoch 17/100\n",
            "4/4 [==============================] - 0s 16ms/step - loss: 0.1518 - accuracy: 0.9658 - val_loss: 0.4781 - val_accuracy: 0.7667\n",
            "Epoch 18/100\n",
            "4/4 [==============================] - 0s 21ms/step - loss: 0.1905 - accuracy: 0.9060 - val_loss: 0.1952 - val_accuracy: 0.9000\n",
            "Epoch 19/100\n",
            "4/4 [==============================] - 0s 22ms/step - loss: 0.3088 - accuracy: 0.8291 - val_loss: 0.2225 - val_accuracy: 0.9000\n",
            "Epoch 20/100\n",
            "4/4 [==============================] - 0s 17ms/step - loss: 0.1286 - accuracy: 0.9829 - val_loss: 0.2072 - val_accuracy: 0.9333\n",
            "Epoch 21/100\n",
            "4/4 [==============================] - 0s 16ms/step - loss: 0.1361 - accuracy: 0.9487 - val_loss: 0.4037 - val_accuracy: 0.8333\n",
            "Epoch 22/100\n",
            "4/4 [==============================] - 0s 24ms/step - loss: 0.2079 - accuracy: 0.9316 - val_loss: 0.1759 - val_accuracy: 0.9333\n",
            "Epoch 23/100\n",
            "4/4 [==============================] - 0s 17ms/step - loss: 0.1167 - accuracy: 0.9316 - val_loss: 0.1781 - val_accuracy: 0.9333\n",
            "Epoch 24/100\n",
            "4/4 [==============================] - 0s 18ms/step - loss: 0.1180 - accuracy: 0.9487 - val_loss: 0.1613 - val_accuracy: 0.9000\n",
            "Epoch 25/100\n",
            "4/4 [==============================] - 0s 18ms/step - loss: 0.1391 - accuracy: 0.9402 - val_loss: 0.1909 - val_accuracy: 0.9000\n",
            "Epoch 26/100\n",
            "4/4 [==============================] - 0s 17ms/step - loss: 0.3541 - accuracy: 0.8547 - val_loss: 0.1635 - val_accuracy: 0.9333\n",
            "Epoch 27/100\n",
            "4/4 [==============================] - 0s 17ms/step - loss: 0.0885 - accuracy: 0.9915 - val_loss: 0.1808 - val_accuracy: 0.9333\n",
            "Epoch 28/100\n",
            "4/4 [==============================] - 0s 25ms/step - loss: 0.1499 - accuracy: 0.9402 - val_loss: 0.4298 - val_accuracy: 0.8000\n",
            "Epoch 29/100\n",
            "4/4 [==============================] - 0s 22ms/step - loss: 0.2151 - accuracy: 0.9145 - val_loss: 0.2899 - val_accuracy: 0.8667\n",
            "Epoch 30/100\n",
            "4/4 [==============================] - 0s 25ms/step - loss: 0.1037 - accuracy: 0.9658 - val_loss: 0.1730 - val_accuracy: 0.9333\n",
            "Epoch 31/100\n",
            "4/4 [==============================] - 0s 13ms/step - loss: 0.0777 - accuracy: 0.9829 - val_loss: 0.2013 - val_accuracy: 0.9333\n",
            "Epoch 32/100\n",
            "4/4 [==============================] - 0s 13ms/step - loss: 0.0717 - accuracy: 0.9829 - val_loss: 0.3001 - val_accuracy: 0.9000\n",
            "Epoch 33/100\n",
            "4/4 [==============================] - 0s 13ms/step - loss: 0.1161 - accuracy: 0.9573 - val_loss: 0.2588 - val_accuracy: 0.8667\n",
            "Epoch 34/100\n",
            "4/4 [==============================] - 0s 13ms/step - loss: 0.3478 - accuracy: 0.8547 - val_loss: 0.1866 - val_accuracy: 0.9333\n",
            "Epoch 35/100\n",
            "4/4 [==============================] - 0s 13ms/step - loss: 0.0791 - accuracy: 0.9744 - val_loss: 0.2014 - val_accuracy: 0.9333\n",
            "Epoch 36/100\n",
            "4/4 [==============================] - 0s 18ms/step - loss: 0.0797 - accuracy: 0.9658 - val_loss: 0.1974 - val_accuracy: 0.9333\n",
            "Epoch 37/100\n",
            "4/4 [==============================] - 0s 12ms/step - loss: 0.1109 - accuracy: 0.9573 - val_loss: 0.3041 - val_accuracy: 0.9000\n",
            "Epoch 38/100\n",
            "4/4 [==============================] - 0s 12ms/step - loss: 0.1042 - accuracy: 0.9744 - val_loss: 0.1677 - val_accuracy: 0.9333\n",
            "Epoch 39/100\n",
            "4/4 [==============================] - 0s 12ms/step - loss: 0.1433 - accuracy: 0.9316 - val_loss: 0.2382 - val_accuracy: 0.9333\n",
            "Epoch 40/100\n",
            "4/4 [==============================] - 0s 12ms/step - loss: 0.0968 - accuracy: 0.9658 - val_loss: 0.1466 - val_accuracy: 0.9333\n",
            "Epoch 41/100\n",
            "4/4 [==============================] - 0s 17ms/step - loss: 0.0683 - accuracy: 0.9744 - val_loss: 0.1701 - val_accuracy: 0.9333\n",
            "Epoch 42/100\n",
            "4/4 [==============================] - 0s 13ms/step - loss: 0.0766 - accuracy: 0.9658 - val_loss: 0.3731 - val_accuracy: 0.8667\n",
            "Epoch 43/100\n",
            "4/4 [==============================] - 0s 13ms/step - loss: 0.3449 - accuracy: 0.8803 - val_loss: 0.2468 - val_accuracy: 0.9333\n",
            "Epoch 44/100\n",
            "4/4 [==============================] - 0s 12ms/step - loss: 0.0767 - accuracy: 0.9658 - val_loss: 0.1269 - val_accuracy: 0.9333\n",
            "Epoch 45/100\n",
            "4/4 [==============================] - 0s 12ms/step - loss: 0.0627 - accuracy: 0.9744 - val_loss: 0.1146 - val_accuracy: 0.9333\n",
            "Epoch 46/100\n",
            "4/4 [==============================] - 0s 14ms/step - loss: 0.0537 - accuracy: 0.9658 - val_loss: 0.1625 - val_accuracy: 0.9333\n",
            "Epoch 47/100\n",
            "4/4 [==============================] - 0s 12ms/step - loss: 0.1436 - accuracy: 0.9487 - val_loss: 0.1532 - val_accuracy: 0.9333\n",
            "Epoch 48/100\n",
            "4/4 [==============================] - 0s 12ms/step - loss: 0.0711 - accuracy: 0.9829 - val_loss: 0.2385 - val_accuracy: 0.9333\n",
            "Epoch 49/100\n",
            "4/4 [==============================] - 0s 12ms/step - loss: 0.1049 - accuracy: 0.9487 - val_loss: 0.1109 - val_accuracy: 0.9333\n",
            "Epoch 50/100\n",
            "4/4 [==============================] - 0s 12ms/step - loss: 0.0661 - accuracy: 0.9744 - val_loss: 0.1071 - val_accuracy: 0.9000\n",
            "Epoch 51/100\n",
            "4/4 [==============================] - 0s 12ms/step - loss: 0.1509 - accuracy: 0.9316 - val_loss: 0.2430 - val_accuracy: 0.9333\n",
            "Epoch 52/100\n",
            "4/4 [==============================] - 0s 12ms/step - loss: 0.0986 - accuracy: 0.9658 - val_loss: 0.1088 - val_accuracy: 0.9000\n",
            "Epoch 53/100\n",
            "4/4 [==============================] - 0s 13ms/step - loss: 0.1146 - accuracy: 0.9573 - val_loss: 0.1182 - val_accuracy: 0.9333\n",
            "Epoch 54/100\n",
            "4/4 [==============================] - 0s 12ms/step - loss: 0.0501 - accuracy: 0.9829 - val_loss: 0.1554 - val_accuracy: 0.9333\n",
            "Epoch 55/100\n",
            "4/4 [==============================] - 0s 12ms/step - loss: 0.2578 - accuracy: 0.8974 - val_loss: 0.1343 - val_accuracy: 0.9333\n",
            "Epoch 56/100\n",
            "4/4 [==============================] - 0s 12ms/step - loss: 0.0619 - accuracy: 0.9744 - val_loss: 0.1365 - val_accuracy: 0.9333\n",
            "Epoch 57/100\n",
            "4/4 [==============================] - 0s 12ms/step - loss: 0.0520 - accuracy: 0.9658 - val_loss: 0.1116 - val_accuracy: 0.9333\n",
            "Epoch 58/100\n",
            "4/4 [==============================] - 0s 12ms/step - loss: 0.0526 - accuracy: 0.9829 - val_loss: 0.1274 - val_accuracy: 0.9667\n",
            "Epoch 59/100\n",
            "4/4 [==============================] - 0s 12ms/step - loss: 0.0881 - accuracy: 0.9658 - val_loss: 0.2239 - val_accuracy: 0.9333\n",
            "Epoch 60/100\n",
            "4/4 [==============================] - 0s 12ms/step - loss: 0.0545 - accuracy: 0.9658 - val_loss: 0.1792 - val_accuracy: 0.9333\n",
            "Epoch 61/100\n",
            "4/4 [==============================] - 0s 13ms/step - loss: 0.1150 - accuracy: 0.9487 - val_loss: 0.4770 - val_accuracy: 0.8667\n",
            "Epoch 62/100\n",
            "4/4 [==============================] - 0s 13ms/step - loss: 0.1593 - accuracy: 0.9402 - val_loss: 0.1683 - val_accuracy: 0.9333\n",
            "Epoch 63/100\n",
            "1/4 [======>.......................] - ETA: 0s - loss: 0.0769 - accuracy: 0.9688"
          ]
        }
      ]
    },
    {
      "cell_type": "code",
      "source": [
        "#Print actual and predicted value\n",
        "\n",
        "y_pred = model.predict(X_valid)\n",
        "\n",
        "actual = np.argmax(y_valid, axis = 1)\n",
        "predicted = np.argmax(y_pred, axis = 1)\n",
        "\n",
        "print(f\"Actual:    {actual}\")\n",
        "print(f\"Predicted: {predicted}\")"
      ],
      "metadata": {
        "id": "M1lfxJHThxKP"
      },
      "execution_count": null,
      "outputs": []
    }
  ]
}